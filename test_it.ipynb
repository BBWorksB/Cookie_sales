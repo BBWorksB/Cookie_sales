{
 "cells": [
  {
   "cell_type": "code",
   "execution_count": 2,
   "metadata": {},
   "outputs": [],
   "source": [
    "import pandas as pd"
   ]
  },
  {
   "cell_type": "code",
   "execution_count": 3,
   "metadata": {},
   "outputs": [
    {
     "data": {
      "text/html": [
       "<div>\n",
       "<style scoped>\n",
       "    .dataframe tbody tr th:only-of-type {\n",
       "        vertical-align: middle;\n",
       "    }\n",
       "\n",
       "    .dataframe tbody tr th {\n",
       "        vertical-align: top;\n",
       "    }\n",
       "\n",
       "    .dataframe thead th {\n",
       "        text-align: right;\n",
       "    }\n",
       "</style>\n",
       "<table border=\"1\" class=\"dataframe\">\n",
       "  <thead>\n",
       "    <tr style=\"text-align: right;\">\n",
       "      <th></th>\n",
       "      <th>Country</th>\n",
       "      <th>Product</th>\n",
       "      <th>Units Sold</th>\n",
       "      <th>Revenue per cookie</th>\n",
       "      <th>Cost per cookie</th>\n",
       "      <th>Revenue</th>\n",
       "      <th>Cost</th>\n",
       "      <th>Profit</th>\n",
       "      <th>Date</th>\n",
       "      <th>Month Number</th>\n",
       "      <th>Month Name</th>\n",
       "      <th>Year</th>\n",
       "    </tr>\n",
       "  </thead>\n",
       "  <tbody>\n",
       "    <tr>\n",
       "      <th>0</th>\n",
       "      <td>Canada</td>\n",
       "      <td>Chocolate Chip</td>\n",
       "      <td>$292.00</td>\n",
       "      <td>$5.00</td>\n",
       "      <td>$2.00</td>\n",
       "      <td>$1,460.00</td>\n",
       "      <td>$584.00</td>\n",
       "      <td>$876.00</td>\n",
       "      <td>01/02/2019</td>\n",
       "      <td>2</td>\n",
       "      <td>February</td>\n",
       "      <td>2019</td>\n",
       "    </tr>\n",
       "    <tr>\n",
       "      <th>1</th>\n",
       "      <td>Mexico</td>\n",
       "      <td>Chocolate Chip</td>\n",
       "      <td>$974.00</td>\n",
       "      <td>$5.00</td>\n",
       "      <td>$2.00</td>\n",
       "      <td>$4,870.00</td>\n",
       "      <td>$1,948.00</td>\n",
       "      <td>$2,922.00</td>\n",
       "      <td>01/02/2019</td>\n",
       "      <td>2</td>\n",
       "      <td>February</td>\n",
       "      <td>2019</td>\n",
       "    </tr>\n",
       "    <tr>\n",
       "      <th>2</th>\n",
       "      <td>Canada</td>\n",
       "      <td>Chocolate Chip</td>\n",
       "      <td>$2,518.00</td>\n",
       "      <td>$5.00</td>\n",
       "      <td>$2.00</td>\n",
       "      <td>$12,590.00</td>\n",
       "      <td>$5,036.00</td>\n",
       "      <td>$7,554.00</td>\n",
       "      <td>01/06/2019</td>\n",
       "      <td>6</td>\n",
       "      <td>June</td>\n",
       "      <td>2019</td>\n",
       "    </tr>\n",
       "    <tr>\n",
       "      <th>3</th>\n",
       "      <td>Germany</td>\n",
       "      <td>Chocolate Chip</td>\n",
       "      <td>$1,006.00</td>\n",
       "      <td>$5.00</td>\n",
       "      <td>$2.00</td>\n",
       "      <td>$5,030.00</td>\n",
       "      <td>$2,012.00</td>\n",
       "      <td>$3,018.00</td>\n",
       "      <td>01/06/2019</td>\n",
       "      <td>6</td>\n",
       "      <td>June</td>\n",
       "      <td>2019</td>\n",
       "    </tr>\n",
       "    <tr>\n",
       "      <th>4</th>\n",
       "      <td>Germany</td>\n",
       "      <td>Chocolate Chip</td>\n",
       "      <td>$367.00</td>\n",
       "      <td>$5.00</td>\n",
       "      <td>$2.00</td>\n",
       "      <td>$1,835.00</td>\n",
       "      <td>$734.00</td>\n",
       "      <td>$1,101.00</td>\n",
       "      <td>01/07/2019</td>\n",
       "      <td>7</td>\n",
       "      <td>July</td>\n",
       "      <td>2019</td>\n",
       "    </tr>\n",
       "  </tbody>\n",
       "</table>\n",
       "</div>"
      ],
      "text/plain": [
       "   Country          Product   Units Sold   Revenue per cookie    \n",
       "0   Canada   Chocolate Chip      $292.00                $5.00   \\\n",
       "1   Mexico   Chocolate Chip      $974.00                $5.00    \n",
       "2   Canada   Chocolate Chip    $2,518.00                $5.00    \n",
       "3  Germany   Chocolate Chip    $1,006.00                $5.00    \n",
       "4  Germany   Chocolate Chip      $367.00                $5.00    \n",
       "\n",
       "   Cost per cookie       Revenue         Cost       Profit         Date   \n",
       "0            $2.00     $1,460.00      $584.00      $876.00   01/02/2019  \\\n",
       "1            $2.00     $4,870.00    $1,948.00    $2,922.00   01/02/2019   \n",
       "2            $2.00    $12,590.00    $5,036.00    $7,554.00   01/06/2019   \n",
       "3            $2.00     $5,030.00    $2,012.00    $3,018.00   01/06/2019   \n",
       "4            $2.00     $1,835.00      $734.00    $1,101.00   01/07/2019   \n",
       "\n",
       "   Month Number  Month Name   Year  \n",
       "0             2    February   2019  \n",
       "1             2    February   2019  \n",
       "2             6        June   2019  \n",
       "3             6        June   2019  \n",
       "4             7        July   2019  "
      ]
     },
     "execution_count": 3,
     "metadata": {},
     "output_type": "execute_result"
    }
   ],
   "source": [
    "df = pd.read_csv('Kevin Cookie Company Financials.csv')\n",
    "df.head()"
   ]
  },
  {
   "cell_type": "code",
   "execution_count": 4,
   "metadata": {},
   "outputs": [
    {
     "data": {
      "text/plain": [
       "Country                 0\n",
       " Product                0\n",
       " Units Sold             0\n",
       " Revenue per cookie     0\n",
       " Cost per cookie        0\n",
       " Revenue                0\n",
       " Cost                   0\n",
       " Profit                 0\n",
       "Date                    0\n",
       "Month Number            0\n",
       " Month Name             0\n",
       "Year                    0\n",
       "dtype: int64"
      ]
     },
     "execution_count": 4,
     "metadata": {},
     "output_type": "execute_result"
    }
   ],
   "source": [
    "df.isnull().sum()"
   ]
  },
  {
   "cell_type": "code",
   "execution_count": 5,
   "metadata": {},
   "outputs": [
    {
     "name": "stdout",
     "output_type": "stream",
     "text": [
      "<class 'pandas.core.frame.DataFrame'>\n",
      "RangeIndex: 700 entries, 0 to 699\n",
      "Data columns (total 12 columns):\n",
      " #   Column                Non-Null Count  Dtype \n",
      "---  ------                --------------  ----- \n",
      " 0   Country               700 non-null    object\n",
      " 1    Product              700 non-null    object\n",
      " 2    Units Sold           700 non-null    object\n",
      " 3    Revenue per cookie   700 non-null    object\n",
      " 4    Cost per cookie      700 non-null    object\n",
      " 5    Revenue              700 non-null    object\n",
      " 6    Cost                 700 non-null    object\n",
      " 7    Profit               700 non-null    object\n",
      " 8   Date                  700 non-null    object\n",
      " 9   Month Number          700 non-null    int64 \n",
      " 10   Month Name           700 non-null    object\n",
      " 11  Year                  700 non-null    int64 \n",
      "dtypes: int64(2), object(10)\n",
      "memory usage: 65.8+ KB\n"
     ]
    }
   ],
   "source": [
    "df.info()"
   ]
  },
  {
   "cell_type": "code",
   "execution_count": 6,
   "metadata": {},
   "outputs": [
    {
     "data": {
      "text/plain": [
       "Country                 0\n",
       " Product                0\n",
       " Units Sold             0\n",
       " Revenue per cookie     0\n",
       " Cost per cookie        0\n",
       " Revenue                0\n",
       " Cost                   0\n",
       " Profit                 0\n",
       "Date                    0\n",
       "Month Number            0\n",
       " Month Name             0\n",
       "Year                    0\n",
       "dtype: int64"
      ]
     },
     "execution_count": 6,
     "metadata": {},
     "output_type": "execute_result"
    }
   ],
   "source": [
    "# check null \n",
    "df.isna().sum()"
   ]
  },
  {
   "cell_type": "code",
   "execution_count": null,
   "metadata": {},
   "outputs": [],
   "source": []
  }
 ],
 "metadata": {
  "kernelspec": {
   "display_name": "Python 3 (ipykernel)",
   "language": "python",
   "name": "python3"
  },
  "language_info": {
   "codemirror_mode": {
    "name": "ipython",
    "version": 3
   },
   "file_extension": ".py",
   "mimetype": "text/x-python",
   "name": "python",
   "nbconvert_exporter": "python",
   "pygments_lexer": "ipython3",

   "version": "3.10.11"

  },
  "orig_nbformat": 4
 },
 "nbformat": 4,
 "nbformat_minor": 2
}
